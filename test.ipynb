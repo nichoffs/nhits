{
 "cells": [
  {
   "cell_type": "code",
   "execution_count": 4,
   "metadata": {},
   "outputs": [],
   "source": [
    "import torch\n",
    "import torch.nn.functional as F"
   ]
  },
  {
   "cell_type": "code",
   "execution_count": 25,
   "metadata": {},
   "outputs": [
    {
     "data": {
      "text/plain": [
       "tensor([[ 0.7002,  0.7002,  0.7002,  ..., -0.8448, -0.8448, -0.8448],\n",
       "        [-0.5107, -0.5107, -0.5107,  ...,  0.8358,  0.8358,  0.8358],\n",
       "        [ 0.6850,  0.6850,  0.6850,  ..., -1.5314, -1.5314, -1.5314],\n",
       "        ...,\n",
       "        [ 0.1382,  0.1382,  0.1382,  ...,  0.2781,  0.2781,  0.2781],\n",
       "        [-0.9885, -0.9885, -0.9885,  ..., -0.8731, -0.8731, -0.8731],\n",
       "        [ 0.3941,  0.3941,  0.3941,  ..., -0.5075, -0.5075, -0.5075]])"
      ]
     },
     "execution_count": 25,
     "metadata": {},
     "output_type": "execute_result"
    }
   ],
   "source": [
    "x = torch.randn((128,1,30))\n",
    "F.interpolate(x, size=120, mode='nearest').squeeze()"
   ]
  },
  {
   "cell_type": "code",
   "execution_count": 18,
   "metadata": {},
   "outputs": [
    {
     "data": {
      "text/plain": [
       "tensor([[ 0.7472,  0.7472,  0.7472,  ..., -2.0816, -2.0816, -2.0816],\n",
       "        [-0.4057, -0.4057, -0.4057,  ..., -1.2469, -1.2469, -1.2469],\n",
       "        [ 0.6158,  0.6158,  0.6158,  ...,  0.2906,  0.2906,  0.2906],\n",
       "        ...,\n",
       "        [-1.1237, -1.1237, -1.1237,  ..., -1.0413, -1.0413, -1.0413],\n",
       "        [-0.5647, -0.5647, -0.5647,  ..., -1.0533, -1.0533, -1.0533],\n",
       "        [-0.1843, -0.1843, -0.1843,  ..., -0.1545, -0.1545, -0.1545]])"
      ]
     },
     "execution_count": 18,
     "metadata": {},
     "output_type": "execute_result"
    }
   ],
   "source": []
  },
  {
   "cell_type": "code",
   "execution_count": null,
   "metadata": {},
   "outputs": [],
   "source": []
  }
 ],
 "metadata": {
  "kernelspec": {
   "display_name": "venv",
   "language": "python",
   "name": "python3"
  },
  "language_info": {
   "codemirror_mode": {
    "name": "ipython",
    "version": 3
   },
   "file_extension": ".py",
   "mimetype": "text/x-python",
   "name": "python",
   "nbconvert_exporter": "python",
   "pygments_lexer": "ipython3",
   "version": "3.11.3"
  },
  "orig_nbformat": 4
 },
 "nbformat": 4,
 "nbformat_minor": 2
}
